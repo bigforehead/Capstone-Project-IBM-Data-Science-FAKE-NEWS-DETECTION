{
 "cells": [
  {
   "cell_type": "markdown",
   "metadata": {},
   "source": [
    "# PART 2: EXTRACT - TRANSFORM - LOAD (ELT)\n",
    "\n",
    "\n",
    "\n",
    "### Preliminary Steps\n",
    "\n",
    "**Import Packages & Load Data**"
   ]
  },
  {
   "cell_type": "code",
   "execution_count": 35,
   "metadata": {},
   "outputs": [],
   "source": [
    "import pandas as pd\n",
    "import matplotlib\n",
    "from matplotlib import pyplot as plt\n",
    "%matplotlib inline\n",
    "import seaborn as sns"
   ]
  },
  {
   "cell_type": "code",
   "execution_count": 7,
   "metadata": {},
   "outputs": [],
   "source": [
    "# Load data\n",
    "df_fake = pd.read_csv('fake.csv')\n",
    "df_real = pd.read_csv('true.csv')"
   ]
  },
  {
   "cell_type": "markdown",
   "metadata": {},
   "source": [
    "Since we have two seperate files, we will have to extract labels from the dataset and then merge then into one file. Therefore, we will execute those steps:\n",
    "\n",
    "    1. Generate labels: True = 1 & Fake = 0\n",
    "    2. Merge df_fake and df_real into df\n",
    "    3. Extract features we are going to use \"Title\" & \"Text\"    \n",
    "    \n",
    "### Generate Labels | FAKE = 0 & REAL = 1"
   ]
  },
  {
   "cell_type": "code",
   "execution_count": 17,
   "metadata": {},
   "outputs": [],
   "source": [
    "# Generate label for fake news - FAKE = 0\n",
    "df_fake['label'] = [0 for i in range(len(df_fake))]\n",
    "\n",
    "# Generate label for real news - REAL = 1\n",
    "df_real['label'] = [1 for i in range(len(df_real))]"
   ]
  },
  {
   "cell_type": "markdown",
   "metadata": {},
   "source": [
    "### Merge two dataframe\n"
   ]
  },
  {
   "cell_type": "code",
   "execution_count": 73,
   "metadata": {},
   "outputs": [
    {
     "data": {
      "text/html": [
       "<div>\n",
       "<style scoped>\n",
       "    .dataframe tbody tr th:only-of-type {\n",
       "        vertical-align: middle;\n",
       "    }\n",
       "\n",
       "    .dataframe tbody tr th {\n",
       "        vertical-align: top;\n",
       "    }\n",
       "\n",
       "    .dataframe thead th {\n",
       "        text-align: right;\n",
       "    }\n",
       "</style>\n",
       "<table border=\"1\" class=\"dataframe\">\n",
       "  <thead>\n",
       "    <tr style=\"text-align: right;\">\n",
       "      <th></th>\n",
       "      <th>title</th>\n",
       "      <th>text</th>\n",
       "      <th>subject</th>\n",
       "      <th>date</th>\n",
       "      <th>label</th>\n",
       "    </tr>\n",
       "  </thead>\n",
       "  <tbody>\n",
       "    <tr>\n",
       "      <td>0</td>\n",
       "      <td>EU's new eastern leaders stick to guns on refu...</td>\n",
       "      <td>BRUSSELS (Reuters) - The new prime ministers o...</td>\n",
       "      <td>worldnews</td>\n",
       "      <td>December 14, 2017</td>\n",
       "      <td>1</td>\n",
       "    </tr>\n",
       "    <tr>\n",
       "      <td>1</td>\n",
       "      <td>North Korean defector pushes diplomatic soluti...</td>\n",
       "      <td>WASHINGTON (Reuters) - A rare high-level defec...</td>\n",
       "      <td>worldnews</td>\n",
       "      <td>November 1, 2017</td>\n",
       "      <td>1</td>\n",
       "    </tr>\n",
       "    <tr>\n",
       "      <td>2</td>\n",
       "      <td>South Africa court says cannot compel Zuma to ...</td>\n",
       "      <td>JOHANNESBURG (Reuters) - A South African High ...</td>\n",
       "      <td>worldnews</td>\n",
       "      <td>September 29, 2017</td>\n",
       "      <td>1</td>\n",
       "    </tr>\n",
       "    <tr>\n",
       "      <td>3</td>\n",
       "      <td>Trump brand to exit Toronto skyline after buyo...</td>\n",
       "      <td>TORONTO (Reuters) - The name Trump will be rem...</td>\n",
       "      <td>politicsNews</td>\n",
       "      <td>June 27, 2017</td>\n",
       "      <td>1</td>\n",
       "    </tr>\n",
       "    <tr>\n",
       "      <td>4</td>\n",
       "      <td>Baby banned from Japanese municipal assembly</td>\n",
       "      <td>TOKYO (Reuters) - A baby brought into a Japane...</td>\n",
       "      <td>worldnews</td>\n",
       "      <td>November 24, 2017</td>\n",
       "      <td>1</td>\n",
       "    </tr>\n",
       "  </tbody>\n",
       "</table>\n",
       "</div>"
      ],
      "text/plain": [
       "                                               title  \\\n",
       "0  EU's new eastern leaders stick to guns on refu...   \n",
       "1  North Korean defector pushes diplomatic soluti...   \n",
       "2  South Africa court says cannot compel Zuma to ...   \n",
       "3  Trump brand to exit Toronto skyline after buyo...   \n",
       "4       Baby banned from Japanese municipal assembly   \n",
       "\n",
       "                                                text       subject  \\\n",
       "0  BRUSSELS (Reuters) - The new prime ministers o...     worldnews   \n",
       "1  WASHINGTON (Reuters) - A rare high-level defec...     worldnews   \n",
       "2  JOHANNESBURG (Reuters) - A South African High ...     worldnews   \n",
       "3  TORONTO (Reuters) - The name Trump will be rem...  politicsNews   \n",
       "4  TOKYO (Reuters) - A baby brought into a Japane...     worldnews   \n",
       "\n",
       "                  date  label  \n",
       "0   December 14, 2017       1  \n",
       "1    November 1, 2017       1  \n",
       "2  September 29, 2017       1  \n",
       "3       June 27, 2017       1  \n",
       "4   November 24, 2017       1  "
      ]
     },
     "execution_count": 73,
     "metadata": {},
     "output_type": "execute_result"
    }
   ],
   "source": [
    "# union two dataframes of real news and fake news\n",
    "df = df_fake.append(df_real)\n",
    "\n",
    "# shuffle the data\n",
    "df = df.sample(frac=1).reset_index(drop=True)\n",
    "\n",
    "# Show the data\n",
    "df.head()"
   ]
  },
  {
   "cell_type": "markdown",
   "metadata": {},
   "source": [
    "### Extract Features (Title, Text & Label)"
   ]
  },
  {
   "cell_type": "code",
   "execution_count": 74,
   "metadata": {},
   "outputs": [
    {
     "data": {
      "text/html": [
       "<div>\n",
       "<style scoped>\n",
       "    .dataframe tbody tr th:only-of-type {\n",
       "        vertical-align: middle;\n",
       "    }\n",
       "\n",
       "    .dataframe tbody tr th {\n",
       "        vertical-align: top;\n",
       "    }\n",
       "\n",
       "    .dataframe thead th {\n",
       "        text-align: right;\n",
       "    }\n",
       "</style>\n",
       "<table border=\"1\" class=\"dataframe\">\n",
       "  <thead>\n",
       "    <tr style=\"text-align: right;\">\n",
       "      <th></th>\n",
       "      <th>title</th>\n",
       "      <th>text</th>\n",
       "      <th>label</th>\n",
       "    </tr>\n",
       "  </thead>\n",
       "  <tbody>\n",
       "    <tr>\n",
       "      <td>0</td>\n",
       "      <td>EU's new eastern leaders stick to guns on refu...</td>\n",
       "      <td>BRUSSELS (Reuters) - The new prime ministers o...</td>\n",
       "      <td>1</td>\n",
       "    </tr>\n",
       "    <tr>\n",
       "      <td>1</td>\n",
       "      <td>North Korean defector pushes diplomatic soluti...</td>\n",
       "      <td>WASHINGTON (Reuters) - A rare high-level defec...</td>\n",
       "      <td>1</td>\n",
       "    </tr>\n",
       "    <tr>\n",
       "      <td>2</td>\n",
       "      <td>South Africa court says cannot compel Zuma to ...</td>\n",
       "      <td>JOHANNESBURG (Reuters) - A South African High ...</td>\n",
       "      <td>1</td>\n",
       "    </tr>\n",
       "    <tr>\n",
       "      <td>3</td>\n",
       "      <td>Trump brand to exit Toronto skyline after buyo...</td>\n",
       "      <td>TORONTO (Reuters) - The name Trump will be rem...</td>\n",
       "      <td>1</td>\n",
       "    </tr>\n",
       "    <tr>\n",
       "      <td>4</td>\n",
       "      <td>Baby banned from Japanese municipal assembly</td>\n",
       "      <td>TOKYO (Reuters) - A baby brought into a Japane...</td>\n",
       "      <td>1</td>\n",
       "    </tr>\n",
       "  </tbody>\n",
       "</table>\n",
       "</div>"
      ],
      "text/plain": [
       "                                               title  \\\n",
       "0  EU's new eastern leaders stick to guns on refu...   \n",
       "1  North Korean defector pushes diplomatic soluti...   \n",
       "2  South Africa court says cannot compel Zuma to ...   \n",
       "3  Trump brand to exit Toronto skyline after buyo...   \n",
       "4       Baby banned from Japanese municipal assembly   \n",
       "\n",
       "                                                text  label  \n",
       "0  BRUSSELS (Reuters) - The new prime ministers o...      1  \n",
       "1  WASHINGTON (Reuters) - A rare high-level defec...      1  \n",
       "2  JOHANNESBURG (Reuters) - A South African High ...      1  \n",
       "3  TORONTO (Reuters) - The name Trump will be rem...      1  \n",
       "4  TOKYO (Reuters) - A baby brought into a Japane...      1  "
      ]
     },
     "execution_count": 74,
     "metadata": {},
     "output_type": "execute_result"
    }
   ],
   "source": [
    "df = df.drop(['subject', 'date'], axis=1)\n",
    "df.head()"
   ]
  },
  {
   "cell_type": "markdown",
   "metadata": {},
   "source": [
    "### Distribution of Classes"
   ]
  },
  {
   "cell_type": "code",
   "execution_count": 83,
   "metadata": {},
   "outputs": [
    {
     "name": "stdout",
     "output_type": "stream",
     "text": [
      "DISTRIBUTION OF CLASSES (LABEL) IN THE DATASET (%):\n",
      "0    52.3\n",
      "1    47.7\n",
      "Name: label, dtype: float64\n"
     ]
    },
    {
     "data": {
      "text/plain": [
       "Text(0.5, 1.0, 'Distribution of Classes')"
      ]
     },
     "execution_count": 83,
     "metadata": {},
     "output_type": "execute_result"
    },
    {
     "data": {
      "image/png": "[encoded data removed]",
      "text/plain": [
       "<Figure size 504x288 with 1 Axes>"
      ]
     },
     "metadata": {},
     "output_type": "display_data"
    }
   ],
   "source": [
    "print('DISTRIBUTION OF CLASSES (LABEL) IN THE DATASET (%):')\n",
    "print(round((df.label.value_counts()/len(df.label))*100,2))\n",
    "\n",
    "# Plotting the distribution of classes\n",
    "plt.figure(figsize=(7,4))\n",
    "sns.set(style=\"darkgrid\")\n",
    "sns.countplot(y='label', data=df, palette='Set2', saturation=1).set_title('Distribution of Classes')"
   ]
  },
  {
   "cell_type": "markdown",
   "metadata": {},
   "source": [
    "In general, the classes are equally distributed. We don't have any problem with imbalanced classes"
   ]
  },
  {
   "cell_type": "markdown",
   "metadata": {},
   "source": [
    "### Save the data"
   ]
  },
  {
   "cell_type": "code",
   "execution_count": 84,
   "metadata": {},
   "outputs": [],
   "source": [
    "df.to_csv('clean_data.csv')"
   ]
  },
  {
   "cell_type": "code",
   "execution_count": null,
   "metadata": {},
   "outputs": [],
   "source": []
  }
 ],
 "metadata": {
  "kernelspec": {
   "display_name": "Python 3",
   "language": "python",
   "name": "python3"
  },
  "language_info": {
   "codemirror_mode": {
    "name": "ipython",
    "version": 3
   },
   "file_extension": ".py",
   "mimetype": "text/x-python",
   "name": "python",
   "nbconvert_exporter": "python",
   "pygments_lexer": "ipython3",
   "version": "3.7.4"
  }
 },
 "nbformat": 4,
 "nbformat_minor": 2
}
